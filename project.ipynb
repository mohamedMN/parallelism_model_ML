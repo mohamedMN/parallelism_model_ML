{
 "cells": [
  {
   "cell_type": "code",
   "execution_count": 18,
   "metadata": {},
   "outputs": [],
   "source": [
    "from sklearn import datasets\n",
    "from sklearn.model_selection import train_test_split\n",
    "from sklearn.svm import SVC\n",
    "from sklearn.neighbors import KNeighborsClassifier\n",
    "from sklearn.tree import DecisionTreeClassifier\n",
    "from joblib import Parallel, delayed"
   ]
  },
  {
   "cell_type": "code",
   "execution_count": 19,
   "metadata": {},
   "outputs": [],
   "source": [
    "\n",
    "# Load dataset (Iris dataset for example)\n",
    "import time\n",
    "\n",
    "\n",
    "iris = datasets.load_iris()\n",
    "X = iris.data\n",
    "y = iris.target\n",
    "\n",
    "# Split dataset into training and test sets\n",
    "X_train, X_test, y_train, y_test = train_test_split(X, y, test_size=0.3, random_state=42)\n",
    "\n",
    "# Define the models to train\n",
    "def train_svm(X_train, y_train):\n",
    "    start_time = time.time()\n",
    "\n",
    "    svm_model = SVC(kernel='linear')\n",
    "    svm_model.fit(X_train, y_train)\n",
    "    end_time = time.time()\n",
    "\n",
    "    return svm_model, end_time - start_time\n",
    "\n",
    "def train_knn(X_train, y_train):\n",
    "    start_time = time.time()\n",
    "\n",
    "    knn_model = KNeighborsClassifier(n_neighbors=5)\n",
    "    knn_model.fit(X_train, y_train)\n",
    "    end_time = time.time()\n",
    "\n",
    "    return knn_model, end_time - start_time\n",
    "\n",
    "def train_decision_tree(X_train, y_train):\n",
    "    start_time = time.time()\n",
    "\n",
    "    tree_model = DecisionTreeClassifier()\n",
    "    tree_model.fit(X_train, y_train)\n",
    "    end_time = time.time()\n",
    "\n",
    "    return tree_model, end_time - start_time"
   ]
  },
  {
   "cell_type": "code",
   "execution_count": 36,
   "metadata": {},
   "outputs": [
    {
     "name": "stdout",
     "output_type": "stream",
     "text": [
      " Training Time: 0.0050 seconds\n",
      " Training Time: 0.0010 seconds\n",
      " Training Time: 0.0030 seconds\n"
     ]
    }
   ],
   "source": [
    "\n",
    "\n",
    "n_jobs_proc=-1\n",
    "\n",
    "# Use joblib to run all models in parallel by passing a list of delayed tasks\n",
    "results = Parallel(n_jobs=n_jobs_proc)(\n",
    "    [delayed(train_svm)(X_train, y_train),   # Train SVM\n",
    "     delayed(train_knn)(X_train, y_train),   # Train KNN\n",
    "     delayed(train_decision_tree)(X_train, y_train)]  # Train Decision Tree\n",
    ")\n",
    "\n",
    "# Unpack the trained models\n",
    "(svm_model, svm_time1), (knn_model, knn_time1), (tree_model, tree_time1) = results\n",
    "\n",
    "\n",
    "\n",
    "# Print accuracy and training time for each model\n",
    "print(f\" Training Time: {svm_time1:.4f} seconds\")\n",
    "print(f\" Training Time: {knn_time1:.4f} seconds\")\n",
    "print(f\" Training Time: {tree_time1:.4f} seconds\")\n"
   ]
  },
  {
   "cell_type": "markdown",
   "metadata": {},
   "source": [
    "## using DASK"
   ]
  },
  {
   "cell_type": "code",
   "execution_count": 21,
   "metadata": {},
   "outputs": [],
   "source": [
    "import dask\n",
    "from dask.distributed import Client ,LocalCluster\n",
    "# Start Dask client with 4 workers (4 CPUs)\n",
    "import dask.delayed\n",
    "\n",
    "\n",
    "\n",
    "# Split dataset into training and test sets\n",
    "features_train, features_test, labels_train, labels_test = train_test_split(\n",
    "    X, y, test_size=0.2, random_state=42\n",
    ")"
   ]
  },
  {
   "cell_type": "code",
   "execution_count": 32,
   "metadata": {},
   "outputs": [
    {
     "name": "stderr",
     "output_type": "stream",
     "text": [
      "c:\\Users\\lenovo\\AppData\\Local\\Programs\\Python\\Python311\\Lib\\site-packages\\distributed\\node.py:182: UserWarning: Port 8888 is already in use.\n",
      "Perhaps you already have a cluster running?\n",
      "Hosting the HTTP server on port 35986 instead\n",
      "  warnings.warn(\n"
     ]
    },
    {
     "data": {
      "text/html": [
       "<div class=\"jp-RenderedHTMLCommon jp-RenderedHTML jp-mod-trusted jp-OutputArea-output\">\n",
       "    <div style=\"width: 24px; height: 24px; background-color: #e1e1e1; border: 3px solid #9D9D9D; border-radius: 5px; position: absolute;\">\n",
       "    </div>\n",
       "    <div style=\"margin-left: 48px;\">\n",
       "        <h3 style=\"margin-bottom: 0px; margin-top: 0px;\">LocalCluster</h3>\n",
       "        <p style=\"color: #9D9D9D; margin-bottom: 0px;\">ee07348b</p>\n",
       "        <table style=\"width: 100%; text-align: left;\">\n",
       "            <tr>\n",
       "                <td style=\"text-align: left;\">\n",
       "                    <strong>Dashboard:</strong> <a href=\"http://127.0.0.1:35986/status\" target=\"_blank\">http://127.0.0.1:35986/status</a>\n",
       "                </td>\n",
       "                <td style=\"text-align: left;\">\n",
       "                    <strong>Workers:</strong> 0\n",
       "                </td>\n",
       "            </tr>\n",
       "            <tr>\n",
       "                <td style=\"text-align: left;\">\n",
       "                    <strong>Total threads:</strong> 0\n",
       "                </td>\n",
       "                <td style=\"text-align: left;\">\n",
       "                    <strong>Total memory:</strong> 0 B\n",
       "                </td>\n",
       "            </tr>\n",
       "            \n",
       "            <tr>\n",
       "    <td style=\"text-align: left;\"><strong>Status:</strong> running</td>\n",
       "    <td style=\"text-align: left;\"><strong>Using processes:</strong> True</td>\n",
       "</tr>\n",
       "\n",
       "            \n",
       "        </table>\n",
       "\n",
       "        <details>\n",
       "            <summary style=\"margin-bottom: 20px;\">\n",
       "                <h3 style=\"display: inline;\">Scheduler Info</h3>\n",
       "            </summary>\n",
       "\n",
       "            <div style=\"\">\n",
       "    <div>\n",
       "        <div style=\"width: 24px; height: 24px; background-color: #FFF7E5; border: 3px solid #FF6132; border-radius: 5px; position: absolute;\"> </div>\n",
       "        <div style=\"margin-left: 48px;\">\n",
       "            <h3 style=\"margin-bottom: 0px;\">Scheduler</h3>\n",
       "            <p style=\"color: #9D9D9D; margin-bottom: 0px;\">Scheduler-d635c4a3-5883-452d-bbb3-ec8ffb3c7a2d</p>\n",
       "            <table style=\"width: 100%; text-align: left;\">\n",
       "                <tr>\n",
       "                    <td style=\"text-align: left;\">\n",
       "                        <strong>Comm:</strong> tcp://127.0.0.1:35989\n",
       "                    </td>\n",
       "                    <td style=\"text-align: left;\">\n",
       "                        <strong>Workers:</strong> 0\n",
       "                    </td>\n",
       "                </tr>\n",
       "                <tr>\n",
       "                    <td style=\"text-align: left;\">\n",
       "                        <strong>Dashboard:</strong> <a href=\"http://127.0.0.1:35986/status\" target=\"_blank\">http://127.0.0.1:35986/status</a>\n",
       "                    </td>\n",
       "                    <td style=\"text-align: left;\">\n",
       "                        <strong>Total threads:</strong> 0\n",
       "                    </td>\n",
       "                </tr>\n",
       "                <tr>\n",
       "                    <td style=\"text-align: left;\">\n",
       "                        <strong>Started:</strong> Just now\n",
       "                    </td>\n",
       "                    <td style=\"text-align: left;\">\n",
       "                        <strong>Total memory:</strong> 0 B\n",
       "                    </td>\n",
       "                </tr>\n",
       "            </table>\n",
       "        </div>\n",
       "    </div>\n",
       "\n",
       "    <details style=\"margin-left: 48px;\">\n",
       "        <summary style=\"margin-bottom: 20px;\">\n",
       "            <h3 style=\"display: inline;\">Workers</h3>\n",
       "        </summary>\n",
       "\n",
       "        \n",
       "\n",
       "    </details>\n",
       "</div>\n",
       "\n",
       "        </details>\n",
       "    </div>\n",
       "</div>"
      ],
      "text/plain": [
       "LocalCluster(ee07348b, 'tcp://127.0.0.1:35989', workers=0, threads=0, memory=0 B)"
      ]
     },
     "metadata": {},
     "output_type": "display_data"
    }
   ],
   "source": [
    "cluster = LocalCluster(dashboard_address=':8888' , n_workers=-1 , threads_per_worker = -1)\n",
    "cluster"
   ]
  },
  {
   "cell_type": "code",
   "execution_count": 33,
   "metadata": {},
   "outputs": [
    {
     "data": {
      "text/html": [
       "<div>\n",
       "    <div style=\"width: 24px; height: 24px; background-color: #e1e1e1; border: 3px solid #9D9D9D; border-radius: 5px; position: absolute;\"> </div>\n",
       "    <div style=\"margin-left: 48px;\">\n",
       "        <h3 style=\"margin-bottom: 0px;\">Client</h3>\n",
       "        <p style=\"color: #9D9D9D; margin-bottom: 0px;\">Client-28a7c6e8-6d4b-11ef-98a4-0c54157be692</p>\n",
       "        <table style=\"width: 100%; text-align: left;\">\n",
       "\n",
       "        <tr>\n",
       "        \n",
       "            <td style=\"text-align: left;\"><strong>Connection method:</strong> Cluster object</td>\n",
       "            <td style=\"text-align: left;\"><strong>Cluster type:</strong> distributed.LocalCluster</td>\n",
       "        \n",
       "        </tr>\n",
       "\n",
       "        \n",
       "            <tr>\n",
       "                <td style=\"text-align: left;\">\n",
       "                    <strong>Dashboard: </strong> <a href=\"http://127.0.0.1:35986/status\" target=\"_blank\">http://127.0.0.1:35986/status</a>\n",
       "                </td>\n",
       "                <td style=\"text-align: left;\"></td>\n",
       "            </tr>\n",
       "        \n",
       "\n",
       "        </table>\n",
       "\n",
       "        \n",
       "\n",
       "        \n",
       "            <details>\n",
       "            <summary style=\"margin-bottom: 20px;\"><h3 style=\"display: inline;\">Cluster Info</h3></summary>\n",
       "            <div class=\"jp-RenderedHTMLCommon jp-RenderedHTML jp-mod-trusted jp-OutputArea-output\">\n",
       "    <div style=\"width: 24px; height: 24px; background-color: #e1e1e1; border: 3px solid #9D9D9D; border-radius: 5px; position: absolute;\">\n",
       "    </div>\n",
       "    <div style=\"margin-left: 48px;\">\n",
       "        <h3 style=\"margin-bottom: 0px; margin-top: 0px;\">LocalCluster</h3>\n",
       "        <p style=\"color: #9D9D9D; margin-bottom: 0px;\">ee07348b</p>\n",
       "        <table style=\"width: 100%; text-align: left;\">\n",
       "            <tr>\n",
       "                <td style=\"text-align: left;\">\n",
       "                    <strong>Dashboard:</strong> <a href=\"http://127.0.0.1:35986/status\" target=\"_blank\">http://127.0.0.1:35986/status</a>\n",
       "                </td>\n",
       "                <td style=\"text-align: left;\">\n",
       "                    <strong>Workers:</strong> 0\n",
       "                </td>\n",
       "            </tr>\n",
       "            <tr>\n",
       "                <td style=\"text-align: left;\">\n",
       "                    <strong>Total threads:</strong> 0\n",
       "                </td>\n",
       "                <td style=\"text-align: left;\">\n",
       "                    <strong>Total memory:</strong> 0 B\n",
       "                </td>\n",
       "            </tr>\n",
       "            \n",
       "            <tr>\n",
       "    <td style=\"text-align: left;\"><strong>Status:</strong> running</td>\n",
       "    <td style=\"text-align: left;\"><strong>Using processes:</strong> True</td>\n",
       "</tr>\n",
       "\n",
       "            \n",
       "        </table>\n",
       "\n",
       "        <details>\n",
       "            <summary style=\"margin-bottom: 20px;\">\n",
       "                <h3 style=\"display: inline;\">Scheduler Info</h3>\n",
       "            </summary>\n",
       "\n",
       "            <div style=\"\">\n",
       "    <div>\n",
       "        <div style=\"width: 24px; height: 24px; background-color: #FFF7E5; border: 3px solid #FF6132; border-radius: 5px; position: absolute;\"> </div>\n",
       "        <div style=\"margin-left: 48px;\">\n",
       "            <h3 style=\"margin-bottom: 0px;\">Scheduler</h3>\n",
       "            <p style=\"color: #9D9D9D; margin-bottom: 0px;\">Scheduler-d635c4a3-5883-452d-bbb3-ec8ffb3c7a2d</p>\n",
       "            <table style=\"width: 100%; text-align: left;\">\n",
       "                <tr>\n",
       "                    <td style=\"text-align: left;\">\n",
       "                        <strong>Comm:</strong> tcp://127.0.0.1:35989\n",
       "                    </td>\n",
       "                    <td style=\"text-align: left;\">\n",
       "                        <strong>Workers:</strong> 0\n",
       "                    </td>\n",
       "                </tr>\n",
       "                <tr>\n",
       "                    <td style=\"text-align: left;\">\n",
       "                        <strong>Dashboard:</strong> <a href=\"http://127.0.0.1:35986/status\" target=\"_blank\">http://127.0.0.1:35986/status</a>\n",
       "                    </td>\n",
       "                    <td style=\"text-align: left;\">\n",
       "                        <strong>Total threads:</strong> 0\n",
       "                    </td>\n",
       "                </tr>\n",
       "                <tr>\n",
       "                    <td style=\"text-align: left;\">\n",
       "                        <strong>Started:</strong> Just now\n",
       "                    </td>\n",
       "                    <td style=\"text-align: left;\">\n",
       "                        <strong>Total memory:</strong> 0 B\n",
       "                    </td>\n",
       "                </tr>\n",
       "            </table>\n",
       "        </div>\n",
       "    </div>\n",
       "\n",
       "    <details style=\"margin-left: 48px;\">\n",
       "        <summary style=\"margin-bottom: 20px;\">\n",
       "            <h3 style=\"display: inline;\">Workers</h3>\n",
       "        </summary>\n",
       "\n",
       "        \n",
       "\n",
       "    </details>\n",
       "</div>\n",
       "\n",
       "        </details>\n",
       "    </div>\n",
       "</div>\n",
       "            </details>\n",
       "        \n",
       "\n",
       "    </div>\n",
       "</div>"
      ],
      "text/plain": [
       "<Client: 'tcp://127.0.0.1:35989' processes=0 threads=0, memory=0 B>"
      ]
     },
     "execution_count": 33,
     "metadata": {},
     "output_type": "execute_result"
    }
   ],
   "source": [
    "client = Client(cluster)\n",
    "client"
   ]
  },
  {
   "cell_type": "code",
   "execution_count": 34,
   "metadata": {},
   "outputs": [],
   "source": [
    "# Define the models to train\n",
    "def train_svm_model(features_train, labels_train):\n",
    "    start = time.time()\n",
    "    svm_clf = SVC(kernel='linear')\n",
    "    svm_clf.fit(features_train, labels_train)\n",
    "    end = time.time()\n",
    "    return svm_clf, end - start\n",
    "\n",
    "def train_knn_model(features_train, labels_train):\n",
    "    start = time.time()\n",
    "    knn_clf = KNeighborsClassifier(n_neighbors=5)\n",
    "    knn_clf.fit(features_train, labels_train)\n",
    "    end = time.time()\n",
    "    return knn_clf, end - start\n",
    "\n",
    "def train_tree_model(features_train, labels_train):\n",
    "    start = time.time()\n",
    "    tree_clf = DecisionTreeClassifier()\n",
    "    tree_clf.fit(features_train, labels_train)\n",
    "    end = time.time()\n",
    "    return tree_clf, end - start"
   ]
  },
  {
   "cell_type": "code",
   "execution_count": 35,
   "metadata": {},
   "outputs": [
    {
     "name": "stderr",
     "output_type": "stream",
     "text": [
      "c:\\Users\\lenovo\\AppData\\Local\\Programs\\Python\\Python311\\Lib\\site-packages\\dask\\base.py:1541: UserWarning: Running on a single-machine scheduler when a distributed client is active might lead to unexpected results.\n",
      "  warnings.warn(\n"
     ]
    },
    {
     "name": "stdout",
     "output_type": "stream",
     "text": [
      "SVM Training Time: 0.0935 seconds\n",
      "KNN Training Time: 0.0160 seconds\n",
      "Decision Tree Training Time: 0.4969 seconds\n"
     ]
    }
   ],
   "source": [
    "\n",
    "# Use Dask delayed to parallelize the training of models\n",
    "svm_task_delayed = dask.delayed(train_svm_model)(X_train, y_train)\n",
    "knn_task_delayed = dask.delayed(train_knn_model)(X_train, y_train)\n",
    "tree_task_delayed = dask.delayed(train_tree_model)(X_train, y_train)\n",
    "\n",
    "# Compute the tasks in parallel\n",
    "trained_models = dask.compute(svm_task_delayed, knn_task_delayed, tree_task_delayed, scheduler='threads')\n",
    "\n",
    "# Unpack the trained models and their training times\n",
    "(svm_clf, svm_training_time), (knn_clf, knn_training_time), (tree_clf, tree_training_time) = trained_models\n",
    "\n",
    "# Print training times for each model\n",
    "print(f\"SVM Training Time: {svm_training_time:.4f} seconds\")\n",
    "print(f\"KNN Training Time: {knn_training_time:.4f} seconds\")\n",
    "print(f\"Decision Tree Training Time: {tree_training_time:.4f} seconds\")\n"
   ]
  },
  {
   "cell_type": "code",
   "execution_count": 37,
   "metadata": {},
   "outputs": [],
   "source": [
    "\n",
    "# Shutdown Dask client\n",
    "client.shutdown()"
   ]
  },
  {
   "cell_type": "markdown",
   "metadata": {},
   "source": [
    "## instead of using CPU we try using GPU\n",
    "### dask - cudaf"
   ]
  },
  {
   "cell_type": "code",
   "execution_count": 1,
   "metadata": {},
   "outputs": [
    {
     "name": "stderr",
     "output_type": "stream",
     "text": [
      "WARNING:root:Device support is limited in daal4py patching. Use Intel(R) Extension for Scikit-learn* for full experience.\n"
     ]
    }
   ],
   "source": [
    "import time\n",
    "import dask\n",
    "import daal4py as d4p\n",
    "from sklearn import datasets\n",
    "from sklearn.model_selection import train_test_split\n",
    "import dpctl  # Data Parallel Control for GPU management\n",
    "\n",
    "# 1. Load the Iris dataset\n",
    "iris = datasets.load_iris()\n",
    "X, y = iris.data, iris.target\n",
    "\n",
    "# Split the data into training and testing sets\n",
    "X_train, X_test, y_train, y_test = train_test_split(X, y, test_size=0.3, random_state=42)\n",
    "\n",
    "# 2. Define functions to train each model using daal4py with GPU offloading\n"
   ]
  },
  {
   "cell_type": "code",
   "execution_count": 4,
   "metadata": {},
   "outputs": [],
   "source": [
    "\n",
    "# Decision Tree Classifier with daal4py (GPU enabled)\n",
    "def train_tree_model_gpu(X_train, y_train):\n",
    "    start_time = time.time()\n",
    "    with dpctl.SyclQueue(\"level_zero:gpu\") as queue:\n",
    "        tree_algo = d4p.decision_tree_classification_training(nClasses=3)\n",
    "        tree_model = tree_algo.compute(X_train, y_train)\n",
    "    training_time = time.time() - start_time\n",
    "    return tree_model, training_time\n",
    "\n",
    "# K-Nearest Neighbors Classifier with daal4py (GPU enabled)\n",
    "def train_knn_model_gpu(X_train, y_train):\n",
    "    start_time = time.time()\n",
    "    with dpctl.SyclQueue(\"level_zero:gpu\") as queue:\n",
    "        knn_algo = d4p.kdtree_knn_classification_training(nClasses=3, k=3)\n",
    "        knn_model = knn_algo.compute(X_train, y_train)\n",
    "    training_time = time.time() - start_time\n",
    "    return knn_model, training_time\n",
    "\n",
    "# Support Vector Machine (SVM) Classifier with daal4py (GPU enabled)\n",
    "def train_svm_model_gpu(X_train, y_train):\n",
    "    start_time = time.time()\n",
    "    with dpctl.SyclQueue(\"level_zero:gpu\") as queue:\n",
    "        svm_algo = d4p.svm_training(nClasses=3)\n",
    "        svm_model = svm_algo.compute(X_train, y_train)\n",
    "    training_time = time.time() - start_time\n",
    "    return svm_model, training_time\n",
    "\n"
   ]
  },
  {
   "cell_type": "code",
   "execution_count": 5,
   "metadata": {},
   "outputs": [
    {
     "ename": "SyclQueueCreationError",
     "evalue": "SYCL Device 'level_zero:gpu' could not be created.",
     "output_type": "error",
     "traceback": [
      "\u001b[1;31m---------------------------------------------------------------------------\u001b[0m",
      "\u001b[1;31mSyclQueueCreationError\u001b[0m                    Traceback (most recent call last)",
      "Cell \u001b[1;32mIn[5], line 7\u001b[0m\n\u001b[0;32m      4\u001b[0m tree_task_delayed \u001b[38;5;241m=\u001b[39m dask\u001b[38;5;241m.\u001b[39mdelayed(train_tree_model_gpu)(X_train, y_train)\n\u001b[0;32m      6\u001b[0m \u001b[38;5;66;03m# 4. Compute the tasks in parallel\u001b[39;00m\n\u001b[1;32m----> 7\u001b[0m trained_models \u001b[38;5;241m=\u001b[39m \u001b[43mdask\u001b[49m\u001b[38;5;241;43m.\u001b[39;49m\u001b[43mcompute\u001b[49m\u001b[43m(\u001b[49m\u001b[43msvm_task_delayed\u001b[49m\u001b[43m,\u001b[49m\u001b[43m \u001b[49m\u001b[43mknn_task_delayed\u001b[49m\u001b[43m,\u001b[49m\u001b[43m \u001b[49m\u001b[43mtree_task_delayed\u001b[49m\u001b[43m,\u001b[49m\u001b[43m \u001b[49m\u001b[43mscheduler\u001b[49m\u001b[38;5;241;43m=\u001b[39;49m\u001b[38;5;124;43m'\u001b[39;49m\u001b[38;5;124;43mthreads\u001b[39;49m\u001b[38;5;124;43m'\u001b[39;49m\u001b[43m)\u001b[49m\n\u001b[0;32m      9\u001b[0m \u001b[38;5;66;03m# 5. Unpack the trained models and their training times\u001b[39;00m\n\u001b[0;32m     10\u001b[0m (svm_model, svm_training_time), (knn_model, knn_training_time), (tree_model, tree_training_time) \u001b[38;5;241m=\u001b[39m trained_models\n",
      "File \u001b[1;32mc:\\Users\\lenovo\\AppData\\Local\\Programs\\Python\\Python311\\Lib\\site-packages\\dask\\base.py:664\u001b[0m, in \u001b[0;36mcompute\u001b[1;34m(traverse, optimize_graph, scheduler, get, *args, **kwargs)\u001b[0m\n\u001b[0;32m    661\u001b[0m     postcomputes\u001b[38;5;241m.\u001b[39mappend(x\u001b[38;5;241m.\u001b[39m__dask_postcompute__())\n\u001b[0;32m    663\u001b[0m \u001b[38;5;28;01mwith\u001b[39;00m shorten_traceback():\n\u001b[1;32m--> 664\u001b[0m     results \u001b[38;5;241m=\u001b[39m \u001b[43mschedule\u001b[49m\u001b[43m(\u001b[49m\u001b[43mdsk\u001b[49m\u001b[43m,\u001b[49m\u001b[43m \u001b[49m\u001b[43mkeys\u001b[49m\u001b[43m,\u001b[49m\u001b[43m \u001b[49m\u001b[38;5;241;43m*\u001b[39;49m\u001b[38;5;241;43m*\u001b[39;49m\u001b[43mkwargs\u001b[49m\u001b[43m)\u001b[49m\n\u001b[0;32m    666\u001b[0m \u001b[38;5;28;01mreturn\u001b[39;00m repack([f(r, \u001b[38;5;241m*\u001b[39ma) \u001b[38;5;28;01mfor\u001b[39;00m r, (f, a) \u001b[38;5;129;01min\u001b[39;00m \u001b[38;5;28mzip\u001b[39m(results, postcomputes)])\n",
      "Cell \u001b[1;32mIn[4], line 4\u001b[0m, in \u001b[0;36mtrain_tree_model_gpu\u001b[1;34m(X_train, y_train)\u001b[0m\n\u001b[0;32m      2\u001b[0m \u001b[38;5;28;01mdef\u001b[39;00m \u001b[38;5;21mtrain_tree_model_gpu\u001b[39m(X_train, y_train):\n\u001b[0;32m      3\u001b[0m     start_time \u001b[38;5;241m=\u001b[39m time\u001b[38;5;241m.\u001b[39mtime()\n\u001b[1;32m----> 4\u001b[0m     \u001b[38;5;28;01mwith\u001b[39;00m \u001b[43mdpctl\u001b[49m\u001b[38;5;241;43m.\u001b[39;49m\u001b[43mSyclQueue\u001b[49m\u001b[43m(\u001b[49m\u001b[38;5;124;43m\"\u001b[39;49m\u001b[38;5;124;43mlevel_zero:gpu\u001b[39;49m\u001b[38;5;124;43m\"\u001b[39;49m\u001b[43m)\u001b[49m \u001b[38;5;28;01mas\u001b[39;00m queue:\n\u001b[0;32m      5\u001b[0m         tree_algo \u001b[38;5;241m=\u001b[39m d4p\u001b[38;5;241m.\u001b[39mdecision_tree_classification_training(nClasses\u001b[38;5;241m=\u001b[39m\u001b[38;5;241m3\u001b[39m)\n\u001b[0;32m      6\u001b[0m         tree_model \u001b[38;5;241m=\u001b[39m tree_algo\u001b[38;5;241m.\u001b[39mcompute(X_train, y_train)\n",
      "File \u001b[1;32mdpctl\\\\_sycl_queue.pyx:553\u001b[0m, in \u001b[0;36mdpctl._sycl_queue.SyclQueue.__cinit__\u001b[1;34m()\u001b[0m\n",
      "\u001b[1;31mSyclQueueCreationError\u001b[0m: SYCL Device 'level_zero:gpu' could not be created."
     ]
    }
   ],
   "source": [
    "# 3. Use Dask delayed to parallelize the training of models\n",
    "svm_task_delayed = dask.delayed(train_svm_model_gpu)(X_train, y_train)\n",
    "knn_task_delayed = dask.delayed(train_knn_model_gpu)(X_train, y_train)\n",
    "tree_task_delayed = dask.delayed(train_tree_model_gpu)(X_train, y_train)\n",
    "\n",
    "# 4. Compute the tasks in parallel\n",
    "trained_models = dask.compute(svm_task_delayed, knn_task_delayed, tree_task_delayed, scheduler='threads')\n",
    "\n",
    "# 5. Unpack the trained models and their training times\n",
    "(svm_model, svm_training_time), (knn_model, knn_training_time), (tree_model, tree_training_time) = trained_models\n",
    "\n",
    "# 6. Print training times for each model\n",
    "print(f\"SVM Training Time (GPU): {svm_training_time:.4f} seconds\")\n",
    "print(f\"KNN Training Time (GPU): {knn_training_time:.4f} seconds\")\n",
    "print(f\"Decision Tree Training Time (GPU): {tree_training_time:.4f} seconds\")\n"
   ]
  },
  {
   "cell_type": "code",
   "execution_count": null,
   "metadata": {},
   "outputs": [],
   "source": []
  }
 ],
 "metadata": {
  "kernelspec": {
   "display_name": "Python 3",
   "language": "python",
   "name": "python3"
  },
  "language_info": {
   "codemirror_mode": {
    "name": "ipython",
    "version": 3
   },
   "file_extension": ".py",
   "mimetype": "text/x-python",
   "name": "python",
   "nbconvert_exporter": "python",
   "pygments_lexer": "ipython3",
   "version": "3.11.4"
  }
 },
 "nbformat": 4,
 "nbformat_minor": 2
}
